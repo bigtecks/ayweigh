{
 "cells": [
  {
   "cell_type": "code",
   "execution_count": 1,
   "id": "6a77b931",
   "metadata": {},
   "outputs": [],
   "source": [
    "#pip install seaborn"
   ]
  },
  {
   "cell_type": "code",
   "execution_count": 2,
   "id": "f1cb734c",
   "metadata": {},
   "outputs": [],
   "source": [
    "import os\n",
    "os.environ[\"DJANGO_ALLOW_ASYNC_UNSAFE\"] = \"true\"\n",
    "from tracking.models import *\n",
    "import pandas as pd\n",
    "import numpy as np\n",
    "import seaborn as sns\n",
    "import matplotlib.pyplot as plt\n",
    "import warnings\n",
    "warnings.filterwarnings(\"ignore\")"
   ]
  },
  {
   "cell_type": "markdown",
   "id": "58406603",
   "metadata": {},
   "source": [
    "#### Useful Links\n",
    "- [Queryset Docs](https://docs.djangoproject.com/en/4.1/ref/models/querysets/)"
   ]
  },
  {
   "cell_type": "code",
   "execution_count": 3,
   "id": "dc77af82",
   "metadata": {},
   "outputs": [
    {
     "data": {
      "text/plain": [
       "<Contest: Contest(2, Big Juicy & The Boys Do A Weight Loss, 2022-08-17 - 2022-11-24, finished: False)>"
      ]
     },
     "execution_count": 3,
     "metadata": {},
     "output_type": "execute_result"
    }
   ],
   "source": [
    "c = Contest.objects.first()\n",
    "c"
   ]
  },
  {
   "cell_type": "code",
   "execution_count": 4,
   "id": "451ab151",
   "metadata": {
    "scrolled": true
   },
   "outputs": [
    {
     "data": {
      "text/plain": [
       "<CheckIn: CheckIn(17, 2022-08-17, started: True)>"
      ]
     },
     "metadata": {},
     "output_type": "display_data"
    },
    {
     "data": {
      "text/plain": [
       "<CheckIn: CheckIn(18, 2022-08-24, started: True)>"
      ]
     },
     "metadata": {},
     "output_type": "display_data"
    },
    {
     "data": {
      "text/plain": [
       "<CheckIn: CheckIn(19, 2022-08-31, started: True)>"
      ]
     },
     "metadata": {},
     "output_type": "display_data"
    },
    {
     "data": {
      "text/plain": [
       "<CheckIn: CheckIn(20, 2022-09-07, started: False)>"
      ]
     },
     "metadata": {},
     "output_type": "display_data"
    },
    {
     "data": {
      "text/plain": [
       "<CheckIn: CheckIn(21, 2022-09-14, started: False)>"
      ]
     },
     "metadata": {},
     "output_type": "display_data"
    },
    {
     "data": {
      "text/plain": [
       "<CheckIn: CheckIn(22, 2022-09-21, started: False)>"
      ]
     },
     "metadata": {},
     "output_type": "display_data"
    },
    {
     "data": {
      "text/plain": [
       "<CheckIn: CheckIn(23, 2022-09-28, started: False)>"
      ]
     },
     "metadata": {},
     "output_type": "display_data"
    },
    {
     "data": {
      "text/plain": [
       "<CheckIn: CheckIn(24, 2022-10-05, started: False)>"
      ]
     },
     "metadata": {},
     "output_type": "display_data"
    },
    {
     "data": {
      "text/plain": [
       "<CheckIn: CheckIn(25, 2022-10-12, started: False)>"
      ]
     },
     "metadata": {},
     "output_type": "display_data"
    },
    {
     "data": {
      "text/plain": [
       "<CheckIn: CheckIn(26, 2022-10-19, started: False)>"
      ]
     },
     "metadata": {},
     "output_type": "display_data"
    },
    {
     "data": {
      "text/plain": [
       "<CheckIn: CheckIn(27, 2022-10-26, started: False)>"
      ]
     },
     "metadata": {},
     "output_type": "display_data"
    },
    {
     "data": {
      "text/plain": [
       "<CheckIn: CheckIn(28, 2022-11-02, started: False)>"
      ]
     },
     "metadata": {},
     "output_type": "display_data"
    },
    {
     "data": {
      "text/plain": [
       "<CheckIn: CheckIn(29, 2022-11-09, started: False)>"
      ]
     },
     "metadata": {},
     "output_type": "display_data"
    },
    {
     "data": {
      "text/plain": [
       "<CheckIn: CheckIn(30, 2022-11-16, started: False)>"
      ]
     },
     "metadata": {},
     "output_type": "display_data"
    },
    {
     "data": {
      "text/plain": [
       "<CheckIn: CheckIn(31, 2022-11-23, started: False)>"
      ]
     },
     "metadata": {},
     "output_type": "display_data"
    },
    {
     "data": {
      "text/plain": [
       "<CheckIn: CheckIn(32, 2022-11-24, started: False)>"
      ]
     },
     "metadata": {},
     "output_type": "display_data"
    }
   ],
   "source": [
    "for check_in in c.check_ins.order_by('starting').all():\n",
    "    display(check_in)"
   ]
  },
  {
   "cell_type": "code",
   "execution_count": null,
   "id": "fca08dd3",
   "metadata": {},
   "outputs": [],
   "source": []
  },
  {
   "cell_type": "code",
   "execution_count": 5,
   "id": "d222d592",
   "metadata": {
    "scrolled": true
   },
   "outputs": [
    {
     "data": {
      "text/plain": [
       "<CheckIn: CheckIn(17, 2022-08-17, started: True)>"
      ]
     },
     "metadata": {},
     "output_type": "display_data"
    },
    {
     "data": {
      "text/plain": [
       "'ericmtz'"
      ]
     },
     "metadata": {},
     "output_type": "display_data"
    },
    {
     "data": {
      "text/plain": [
       "<ContestantCheckIn: ContestantCheckIn(5, 172.4lbs, contestant_id: 3)>"
      ]
     },
     "metadata": {},
     "output_type": "display_data"
    },
    {
     "data": {
      "text/plain": [
       "'maton'"
      ]
     },
     "metadata": {},
     "output_type": "display_data"
    },
    {
     "data": {
      "text/plain": [
       "<ContestantCheckIn: ContestantCheckIn(6, 196.4lbs, contestant_id: 6)>"
      ]
     },
     "metadata": {},
     "output_type": "display_data"
    },
    {
     "data": {
      "text/plain": [
       "'Ludens'"
      ]
     },
     "metadata": {},
     "output_type": "display_data"
    },
    {
     "data": {
      "text/plain": [
       "<ContestantCheckIn: ContestantCheckIn(7, 249.4lbs, contestant_id: 7)>"
      ]
     },
     "metadata": {},
     "output_type": "display_data"
    },
    {
     "data": {
      "text/plain": [
       "'Ageeklar'"
      ]
     },
     "metadata": {},
     "output_type": "display_data"
    },
    {
     "data": {
      "text/plain": [
       "<ContestantCheckIn: ContestantCheckIn(8, 209.7lbs, contestant_id: 4)>"
      ]
     },
     "metadata": {},
     "output_type": "display_data"
    },
    {
     "data": {
      "text/plain": [
       "'dcvz'"
      ]
     },
     "metadata": {},
     "output_type": "display_data"
    },
    {
     "data": {
      "text/plain": [
       "<ContestantCheckIn: ContestantCheckIn(9, 84.0kg, contestant_id: 8)>"
      ]
     },
     "metadata": {},
     "output_type": "display_data"
    },
    {
     "data": {
      "text/plain": [
       "'Squanchy'"
      ]
     },
     "metadata": {},
     "output_type": "display_data"
    },
    {
     "data": {
      "text/plain": [
       "<ContestantCheckIn: ContestantCheckIn(17, 191.8lbs, contestant_id: 2)>"
      ]
     },
     "metadata": {},
     "output_type": "display_data"
    },
    {
     "data": {
      "text/plain": [
       "'Sand.Toast'"
      ]
     },
     "metadata": {},
     "output_type": "display_data"
    },
    {
     "data": {
      "text/plain": [
       "<ContestantCheckIn: ContestantCheckIn(18, 284.4lbs, contestant_id: 9)>"
      ]
     },
     "metadata": {},
     "output_type": "display_data"
    },
    {
     "data": {
      "text/plain": [
       "'fjjstunna'"
      ]
     },
     "metadata": {},
     "output_type": "display_data"
    },
    {
     "data": {
      "text/plain": [
       "<ContestantCheckIn: ContestantCheckIn(19, 202.8lbs, contestant_id: 5)>"
      ]
     },
     "metadata": {},
     "output_type": "display_data"
    }
   ],
   "source": [
    "# first check_in for contest\n",
    "first_check_in = c.check_ins.earliest('starting')\n",
    "display(first_check_in)\n",
    "\n",
    "for contestant_check_in in first_check_in.contestant_check_ins.all():\n",
    "    display(contestant_check_in.contestant.name, contestant_check_in)\n"
   ]
  },
  {
   "cell_type": "code",
   "execution_count": 6,
   "id": "7c2689c0",
   "metadata": {},
   "outputs": [
    {
     "data": {
      "text/plain": [
       "<QuerySet [172.4, 196.4, 249.4, 209.7, 84.0, 191.8, 284.4, 202.8]>"
      ]
     },
     "execution_count": 6,
     "metadata": {},
     "output_type": "execute_result"
    }
   ],
   "source": [
    "first_check_in.contestant_check_ins.values_list('weight', flat=True)"
   ]
  },
  {
   "cell_type": "code",
   "execution_count": 7,
   "id": "ca062166",
   "metadata": {},
   "outputs": [],
   "source": [
    "# first check_in for contest\n",
    "#all_check_in = contestant_check_in.objects.all()\n",
    "#display(all_check_in)\n",
    "\n",
    "#for contestant_check_in in c.check_ins.all():\n",
    "    #display(contestant_check_in.contestant.name, contestant_check_in)"
   ]
  },
  {
   "cell_type": "code",
   "execution_count": 8,
   "id": "a77ab4d9",
   "metadata": {
    "scrolled": true
   },
   "outputs": [
    {
     "data": {
      "text/plain": [
       "[{'weight': 172.4,\n",
       "  'units': 'lbs',\n",
       "  'name': 'ericmtz',\n",
       "  'weigh_in': datetime.date(2022, 8, 17)},\n",
       " {'weight': 196.4,\n",
       "  'units': 'lbs',\n",
       "  'name': 'maton',\n",
       "  'weigh_in': datetime.date(2022, 8, 17)},\n",
       " {'weight': 249.4,\n",
       "  'units': 'lbs',\n",
       "  'name': 'Ludens',\n",
       "  'weigh_in': datetime.date(2022, 8, 17)},\n",
       " {'weight': 209.7,\n",
       "  'units': 'lbs',\n",
       "  'name': 'Ageeklar',\n",
       "  'weigh_in': datetime.date(2022, 8, 17)},\n",
       " {'weight': 84.0,\n",
       "  'units': 'kg',\n",
       "  'name': 'dcvz',\n",
       "  'weigh_in': datetime.date(2022, 8, 17)},\n",
       " {'weight': 191.0,\n",
       "  'units': 'lbs',\n",
       "  'name': 'maton',\n",
       "  'weigh_in': datetime.date(2022, 8, 24)},\n",
       " {'weight': 83.4,\n",
       "  'units': 'kg',\n",
       "  'name': 'dcvz',\n",
       "  'weigh_in': datetime.date(2022, 8, 24)},\n",
       " {'weight': 197.2,\n",
       "  'units': 'lbs',\n",
       "  'name': 'fjjstunna',\n",
       "  'weigh_in': datetime.date(2022, 8, 24)},\n",
       " {'weight': 244.8,\n",
       "  'units': 'lbs',\n",
       "  'name': 'Ludens',\n",
       "  'weigh_in': datetime.date(2022, 8, 24)},\n",
       " {'weight': 189.2,\n",
       "  'units': 'lbs',\n",
       "  'name': 'Squanchy',\n",
       "  'weigh_in': datetime.date(2022, 8, 24)},\n",
       " {'weight': 181.4,\n",
       "  'units': 'lbs',\n",
       "  'name': 'ericmtz',\n",
       "  'weigh_in': datetime.date(2022, 8, 24)},\n",
       " {'weight': 206.7,\n",
       "  'units': 'lbs',\n",
       "  'name': 'Ageeklar',\n",
       "  'weigh_in': datetime.date(2022, 8, 24)},\n",
       " {'weight': 191.8,\n",
       "  'units': 'lbs',\n",
       "  'name': 'Squanchy',\n",
       "  'weigh_in': datetime.date(2022, 8, 17)},\n",
       " {'weight': 284.4,\n",
       "  'units': 'lbs',\n",
       "  'name': 'Sand.Toast',\n",
       "  'weigh_in': datetime.date(2022, 8, 17)},\n",
       " {'weight': 202.8,\n",
       "  'units': 'lbs',\n",
       "  'name': 'fjjstunna',\n",
       "  'weigh_in': datetime.date(2022, 8, 17)},\n",
       " {'weight': 204.7,\n",
       "  'units': '',\n",
       "  'name': 'Ageeklar',\n",
       "  'weigh_in': datetime.date(2022, 8, 31)},\n",
       " {'weight': 196.8,\n",
       "  'units': '',\n",
       "  'name': 'fjjstunna',\n",
       "  'weigh_in': datetime.date(2022, 8, 31)},\n",
       " {'weight': 188.4,\n",
       "  'units': '',\n",
       "  'name': 'maton',\n",
       "  'weigh_in': datetime.date(2022, 8, 31)},\n",
       " {'weight': 83.5,\n",
       "  'units': 'kg',\n",
       "  'name': 'dcvz',\n",
       "  'weigh_in': datetime.date(2022, 8, 31)},\n",
       " {'weight': 188.5,\n",
       "  'units': 'lbs',\n",
       "  'name': 'Squanchy',\n",
       "  'weigh_in': datetime.date(2022, 8, 31)},\n",
       " {'weight': 280.6,\n",
       "  'units': '',\n",
       "  'name': 'Sand.Toast',\n",
       "  'weigh_in': datetime.date(2022, 8, 31)}]"
      ]
     },
     "execution_count": 8,
     "metadata": {},
     "output_type": "execute_result"
    }
   ],
   "source": [
    "pandas_all_data = []\n",
    "\n",
    "for contestant_check_in in ContestantCheckIn.objects.all():\n",
    "    pandas_all_data.append({\n",
    "        'weight': contestant_check_in.weight,\n",
    "        'units': contestant_check_in.units,\n",
    "        'name': contestant_check_in.contestant.name,\n",
    "        'weigh_in': contestant_check_in.check_in.starting\n",
    "    })\n",
    "\n",
    "pandas_all_data"
   ]
  },
  {
   "cell_type": "code",
   "execution_count": 9,
   "id": "bc56ad62",
   "metadata": {
    "scrolled": true
   },
   "outputs": [
    {
     "data": {
      "text/plain": [
       "[{'weight': 172.4,\n",
       "  'units': 'lbs',\n",
       "  'name': 'ericmtz',\n",
       "  'weigh_in': datetime.date(2022, 8, 17)},\n",
       " {'weight': 196.4,\n",
       "  'units': 'lbs',\n",
       "  'name': 'maton',\n",
       "  'weigh_in': datetime.date(2022, 8, 17)},\n",
       " {'weight': 249.4,\n",
       "  'units': 'lbs',\n",
       "  'name': 'Ludens',\n",
       "  'weigh_in': datetime.date(2022, 8, 17)},\n",
       " {'weight': 209.7,\n",
       "  'units': 'lbs',\n",
       "  'name': 'Ageeklar',\n",
       "  'weigh_in': datetime.date(2022, 8, 17)},\n",
       " {'weight': 84.0,\n",
       "  'units': 'kg',\n",
       "  'name': 'dcvz',\n",
       "  'weigh_in': datetime.date(2022, 8, 17)},\n",
       " {'weight': 191.8,\n",
       "  'units': 'lbs',\n",
       "  'name': 'Squanchy',\n",
       "  'weigh_in': datetime.date(2022, 8, 17)},\n",
       " {'weight': 284.4,\n",
       "  'units': 'lbs',\n",
       "  'name': 'Sand.Toast',\n",
       "  'weigh_in': datetime.date(2022, 8, 17)},\n",
       " {'weight': 202.8,\n",
       "  'units': 'lbs',\n",
       "  'name': 'fjjstunna',\n",
       "  'weigh_in': datetime.date(2022, 8, 17)}]"
      ]
     },
     "execution_count": 9,
     "metadata": {},
     "output_type": "execute_result"
    }
   ],
   "source": [
    "pandas_raw_data = []\n",
    "\n",
    "for contestant_check_in in first_check_in.contestant_check_ins.all():\n",
    "    pandas_raw_data.append({\n",
    "        'weight': contestant_check_in.weight,\n",
    "        'units': contestant_check_in.units,\n",
    "        'name': contestant_check_in.contestant.name,\n",
    "        'weigh_in': contestant_check_in.check_in.starting\n",
    "    })\n",
    "\n",
    "pandas_raw_data"
   ]
  },
  {
   "cell_type": "code",
   "execution_count": 10,
   "id": "c950cfde",
   "metadata": {
    "scrolled": true
   },
   "outputs": [
    {
     "data": {
      "text/html": [
       "<div>\n",
       "<style scoped>\n",
       "    .dataframe tbody tr th:only-of-type {\n",
       "        vertical-align: middle;\n",
       "    }\n",
       "\n",
       "    .dataframe tbody tr th {\n",
       "        vertical-align: top;\n",
       "    }\n",
       "\n",
       "    .dataframe thead th {\n",
       "        text-align: right;\n",
       "    }\n",
       "</style>\n",
       "<table border=\"1\" class=\"dataframe\">\n",
       "  <thead>\n",
       "    <tr style=\"text-align: right;\">\n",
       "      <th></th>\n",
       "      <th>weight</th>\n",
       "      <th>units</th>\n",
       "      <th>name</th>\n",
       "      <th>weigh_in</th>\n",
       "    </tr>\n",
       "  </thead>\n",
       "  <tbody>\n",
       "    <tr>\n",
       "      <th>0</th>\n",
       "      <td>172.4</td>\n",
       "      <td>lbs</td>\n",
       "      <td>ericmtz</td>\n",
       "      <td>2022-08-17</td>\n",
       "    </tr>\n",
       "    <tr>\n",
       "      <th>1</th>\n",
       "      <td>196.4</td>\n",
       "      <td>lbs</td>\n",
       "      <td>maton</td>\n",
       "      <td>2022-08-17</td>\n",
       "    </tr>\n",
       "    <tr>\n",
       "      <th>2</th>\n",
       "      <td>249.4</td>\n",
       "      <td>lbs</td>\n",
       "      <td>Ludens</td>\n",
       "      <td>2022-08-17</td>\n",
       "    </tr>\n",
       "    <tr>\n",
       "      <th>3</th>\n",
       "      <td>209.7</td>\n",
       "      <td>lbs</td>\n",
       "      <td>Ageeklar</td>\n",
       "      <td>2022-08-17</td>\n",
       "    </tr>\n",
       "    <tr>\n",
       "      <th>4</th>\n",
       "      <td>84.0</td>\n",
       "      <td>kg</td>\n",
       "      <td>dcvz</td>\n",
       "      <td>2022-08-17</td>\n",
       "    </tr>\n",
       "    <tr>\n",
       "      <th>5</th>\n",
       "      <td>191.0</td>\n",
       "      <td>lbs</td>\n",
       "      <td>maton</td>\n",
       "      <td>2022-08-24</td>\n",
       "    </tr>\n",
       "    <tr>\n",
       "      <th>6</th>\n",
       "      <td>83.4</td>\n",
       "      <td>kg</td>\n",
       "      <td>dcvz</td>\n",
       "      <td>2022-08-24</td>\n",
       "    </tr>\n",
       "    <tr>\n",
       "      <th>7</th>\n",
       "      <td>197.2</td>\n",
       "      <td>lbs</td>\n",
       "      <td>fjjstunna</td>\n",
       "      <td>2022-08-24</td>\n",
       "    </tr>\n",
       "    <tr>\n",
       "      <th>8</th>\n",
       "      <td>244.8</td>\n",
       "      <td>lbs</td>\n",
       "      <td>Ludens</td>\n",
       "      <td>2022-08-24</td>\n",
       "    </tr>\n",
       "    <tr>\n",
       "      <th>9</th>\n",
       "      <td>189.2</td>\n",
       "      <td>lbs</td>\n",
       "      <td>Squanchy</td>\n",
       "      <td>2022-08-24</td>\n",
       "    </tr>\n",
       "    <tr>\n",
       "      <th>10</th>\n",
       "      <td>181.4</td>\n",
       "      <td>lbs</td>\n",
       "      <td>ericmtz</td>\n",
       "      <td>2022-08-24</td>\n",
       "    </tr>\n",
       "    <tr>\n",
       "      <th>11</th>\n",
       "      <td>206.7</td>\n",
       "      <td>lbs</td>\n",
       "      <td>Ageeklar</td>\n",
       "      <td>2022-08-24</td>\n",
       "    </tr>\n",
       "    <tr>\n",
       "      <th>12</th>\n",
       "      <td>191.8</td>\n",
       "      <td>lbs</td>\n",
       "      <td>Squanchy</td>\n",
       "      <td>2022-08-17</td>\n",
       "    </tr>\n",
       "    <tr>\n",
       "      <th>13</th>\n",
       "      <td>284.4</td>\n",
       "      <td>lbs</td>\n",
       "      <td>Sand.Toast</td>\n",
       "      <td>2022-08-17</td>\n",
       "    </tr>\n",
       "    <tr>\n",
       "      <th>14</th>\n",
       "      <td>202.8</td>\n",
       "      <td>lbs</td>\n",
       "      <td>fjjstunna</td>\n",
       "      <td>2022-08-17</td>\n",
       "    </tr>\n",
       "    <tr>\n",
       "      <th>15</th>\n",
       "      <td>204.7</td>\n",
       "      <td></td>\n",
       "      <td>Ageeklar</td>\n",
       "      <td>2022-08-31</td>\n",
       "    </tr>\n",
       "    <tr>\n",
       "      <th>16</th>\n",
       "      <td>196.8</td>\n",
       "      <td></td>\n",
       "      <td>fjjstunna</td>\n",
       "      <td>2022-08-31</td>\n",
       "    </tr>\n",
       "    <tr>\n",
       "      <th>17</th>\n",
       "      <td>188.4</td>\n",
       "      <td></td>\n",
       "      <td>maton</td>\n",
       "      <td>2022-08-31</td>\n",
       "    </tr>\n",
       "    <tr>\n",
       "      <th>18</th>\n",
       "      <td>83.5</td>\n",
       "      <td>kg</td>\n",
       "      <td>dcvz</td>\n",
       "      <td>2022-08-31</td>\n",
       "    </tr>\n",
       "    <tr>\n",
       "      <th>19</th>\n",
       "      <td>188.5</td>\n",
       "      <td>lbs</td>\n",
       "      <td>Squanchy</td>\n",
       "      <td>2022-08-31</td>\n",
       "    </tr>\n",
       "    <tr>\n",
       "      <th>20</th>\n",
       "      <td>280.6</td>\n",
       "      <td></td>\n",
       "      <td>Sand.Toast</td>\n",
       "      <td>2022-08-31</td>\n",
       "    </tr>\n",
       "  </tbody>\n",
       "</table>\n",
       "</div>"
      ],
      "text/plain": [
       "    weight units        name    weigh_in\n",
       "0    172.4   lbs     ericmtz  2022-08-17\n",
       "1    196.4   lbs       maton  2022-08-17\n",
       "2    249.4   lbs      Ludens  2022-08-17\n",
       "3    209.7   lbs    Ageeklar  2022-08-17\n",
       "4     84.0    kg        dcvz  2022-08-17\n",
       "5    191.0   lbs       maton  2022-08-24\n",
       "6     83.4    kg        dcvz  2022-08-24\n",
       "7    197.2   lbs   fjjstunna  2022-08-24\n",
       "8    244.8   lbs      Ludens  2022-08-24\n",
       "9    189.2   lbs    Squanchy  2022-08-24\n",
       "10   181.4   lbs     ericmtz  2022-08-24\n",
       "11   206.7   lbs    Ageeklar  2022-08-24\n",
       "12   191.8   lbs    Squanchy  2022-08-17\n",
       "13   284.4   lbs  Sand.Toast  2022-08-17\n",
       "14   202.8   lbs   fjjstunna  2022-08-17\n",
       "15   204.7          Ageeklar  2022-08-31\n",
       "16   196.8         fjjstunna  2022-08-31\n",
       "17   188.4             maton  2022-08-31\n",
       "18    83.5    kg        dcvz  2022-08-31\n",
       "19   188.5   lbs    Squanchy  2022-08-31\n",
       "20   280.6        Sand.Toast  2022-08-31"
      ]
     },
     "execution_count": 10,
     "metadata": {},
     "output_type": "execute_result"
    }
   ],
   "source": [
    "#df = pd.DataFrame(pandas_raw_data)\n",
    "#df\n",
    "\n",
    "df1 = pd.DataFrame(pandas_all_data)\n",
    "df1"
   ]
  },
  {
   "cell_type": "code",
   "execution_count": 11,
   "id": "2c96d929",
   "metadata": {},
   "outputs": [],
   "source": [
    "df1['weigh_in']= df1['weigh_in'].astype('datetime64')\n",
    "df1['weigh_in'] = df1['weigh_in'].dt.date"
   ]
  },
  {
   "cell_type": "code",
   "execution_count": null,
   "id": "4c0b7391",
   "metadata": {},
   "outputs": [],
   "source": []
  },
  {
   "cell_type": "code",
   "execution_count": 12,
   "id": "6af235c8",
   "metadata": {
    "scrolled": false
   },
   "outputs": [
    {
     "name": "stdout",
     "output_type": "stream",
     "text": [
      "<class 'pandas.core.frame.DataFrame'>\n",
      "RangeIndex: 21 entries, 0 to 20\n",
      "Data columns (total 4 columns):\n",
      " #   Column    Non-Null Count  Dtype  \n",
      "---  ------    --------------  -----  \n",
      " 0   weight    21 non-null     float64\n",
      " 1   units     21 non-null     object \n",
      " 2   name      21 non-null     object \n",
      " 3   weigh_in  21 non-null     object \n",
      "dtypes: float64(1), object(3)\n",
      "memory usage: 800.0+ bytes\n"
     ]
    }
   ],
   "source": [
    "df1.info()"
   ]
  },
  {
   "cell_type": "code",
   "execution_count": 13,
   "id": "08f773d6",
   "metadata": {},
   "outputs": [
    {
     "data": {
      "text/html": [
       "<div>\n",
       "<style scoped>\n",
       "    .dataframe tbody tr th:only-of-type {\n",
       "        vertical-align: middle;\n",
       "    }\n",
       "\n",
       "    .dataframe tbody tr th {\n",
       "        vertical-align: top;\n",
       "    }\n",
       "\n",
       "    .dataframe thead th {\n",
       "        text-align: right;\n",
       "    }\n",
       "</style>\n",
       "<table border=\"1\" class=\"dataframe\">\n",
       "  <thead>\n",
       "    <tr style=\"text-align: right;\">\n",
       "      <th></th>\n",
       "      <th>weight</th>\n",
       "      <th>units</th>\n",
       "      <th>name</th>\n",
       "      <th>weigh_in</th>\n",
       "    </tr>\n",
       "  </thead>\n",
       "  <tbody>\n",
       "    <tr>\n",
       "      <th>0</th>\n",
       "      <td>172.4</td>\n",
       "      <td>lbs</td>\n",
       "      <td>ericmtz</td>\n",
       "      <td>2022-08-17</td>\n",
       "    </tr>\n",
       "    <tr>\n",
       "      <th>1</th>\n",
       "      <td>196.4</td>\n",
       "      <td>lbs</td>\n",
       "      <td>maton</td>\n",
       "      <td>2022-08-17</td>\n",
       "    </tr>\n",
       "    <tr>\n",
       "      <th>2</th>\n",
       "      <td>249.4</td>\n",
       "      <td>lbs</td>\n",
       "      <td>Ludens</td>\n",
       "      <td>2022-08-17</td>\n",
       "    </tr>\n",
       "    <tr>\n",
       "      <th>3</th>\n",
       "      <td>209.7</td>\n",
       "      <td>lbs</td>\n",
       "      <td>Ageeklar</td>\n",
       "      <td>2022-08-17</td>\n",
       "    </tr>\n",
       "    <tr>\n",
       "      <th>4</th>\n",
       "      <td>84.0</td>\n",
       "      <td>kg</td>\n",
       "      <td>dcvz</td>\n",
       "      <td>2022-08-17</td>\n",
       "    </tr>\n",
       "    <tr>\n",
       "      <th>14</th>\n",
       "      <td>202.8</td>\n",
       "      <td>lbs</td>\n",
       "      <td>fjjstunna</td>\n",
       "      <td>2022-08-17</td>\n",
       "    </tr>\n",
       "    <tr>\n",
       "      <th>13</th>\n",
       "      <td>284.4</td>\n",
       "      <td>lbs</td>\n",
       "      <td>Sand.Toast</td>\n",
       "      <td>2022-08-17</td>\n",
       "    </tr>\n",
       "    <tr>\n",
       "      <th>12</th>\n",
       "      <td>191.8</td>\n",
       "      <td>lbs</td>\n",
       "      <td>Squanchy</td>\n",
       "      <td>2022-08-17</td>\n",
       "    </tr>\n",
       "    <tr>\n",
       "      <th>11</th>\n",
       "      <td>206.7</td>\n",
       "      <td>lbs</td>\n",
       "      <td>Ageeklar</td>\n",
       "      <td>2022-08-24</td>\n",
       "    </tr>\n",
       "    <tr>\n",
       "      <th>10</th>\n",
       "      <td>181.4</td>\n",
       "      <td>lbs</td>\n",
       "      <td>ericmtz</td>\n",
       "      <td>2022-08-24</td>\n",
       "    </tr>\n",
       "    <tr>\n",
       "      <th>8</th>\n",
       "      <td>244.8</td>\n",
       "      <td>lbs</td>\n",
       "      <td>Ludens</td>\n",
       "      <td>2022-08-24</td>\n",
       "    </tr>\n",
       "    <tr>\n",
       "      <th>7</th>\n",
       "      <td>197.2</td>\n",
       "      <td>lbs</td>\n",
       "      <td>fjjstunna</td>\n",
       "      <td>2022-08-24</td>\n",
       "    </tr>\n",
       "    <tr>\n",
       "      <th>6</th>\n",
       "      <td>83.4</td>\n",
       "      <td>kg</td>\n",
       "      <td>dcvz</td>\n",
       "      <td>2022-08-24</td>\n",
       "    </tr>\n",
       "    <tr>\n",
       "      <th>5</th>\n",
       "      <td>191.0</td>\n",
       "      <td>lbs</td>\n",
       "      <td>maton</td>\n",
       "      <td>2022-08-24</td>\n",
       "    </tr>\n",
       "    <tr>\n",
       "      <th>9</th>\n",
       "      <td>189.2</td>\n",
       "      <td>lbs</td>\n",
       "      <td>Squanchy</td>\n",
       "      <td>2022-08-24</td>\n",
       "    </tr>\n",
       "    <tr>\n",
       "      <th>19</th>\n",
       "      <td>188.5</td>\n",
       "      <td>lbs</td>\n",
       "      <td>Squanchy</td>\n",
       "      <td>2022-08-31</td>\n",
       "    </tr>\n",
       "    <tr>\n",
       "      <th>15</th>\n",
       "      <td>204.7</td>\n",
       "      <td></td>\n",
       "      <td>Ageeklar</td>\n",
       "      <td>2022-08-31</td>\n",
       "    </tr>\n",
       "    <tr>\n",
       "      <th>16</th>\n",
       "      <td>196.8</td>\n",
       "      <td></td>\n",
       "      <td>fjjstunna</td>\n",
       "      <td>2022-08-31</td>\n",
       "    </tr>\n",
       "    <tr>\n",
       "      <th>17</th>\n",
       "      <td>188.4</td>\n",
       "      <td></td>\n",
       "      <td>maton</td>\n",
       "      <td>2022-08-31</td>\n",
       "    </tr>\n",
       "    <tr>\n",
       "      <th>18</th>\n",
       "      <td>83.5</td>\n",
       "      <td>kg</td>\n",
       "      <td>dcvz</td>\n",
       "      <td>2022-08-31</td>\n",
       "    </tr>\n",
       "    <tr>\n",
       "      <th>20</th>\n",
       "      <td>280.6</td>\n",
       "      <td></td>\n",
       "      <td>Sand.Toast</td>\n",
       "      <td>2022-08-31</td>\n",
       "    </tr>\n",
       "  </tbody>\n",
       "</table>\n",
       "</div>"
      ],
      "text/plain": [
       "    weight units        name    weigh_in\n",
       "0    172.4   lbs     ericmtz  2022-08-17\n",
       "1    196.4   lbs       maton  2022-08-17\n",
       "2    249.4   lbs      Ludens  2022-08-17\n",
       "3    209.7   lbs    Ageeklar  2022-08-17\n",
       "4     84.0    kg        dcvz  2022-08-17\n",
       "14   202.8   lbs   fjjstunna  2022-08-17\n",
       "13   284.4   lbs  Sand.Toast  2022-08-17\n",
       "12   191.8   lbs    Squanchy  2022-08-17\n",
       "11   206.7   lbs    Ageeklar  2022-08-24\n",
       "10   181.4   lbs     ericmtz  2022-08-24\n",
       "8    244.8   lbs      Ludens  2022-08-24\n",
       "7    197.2   lbs   fjjstunna  2022-08-24\n",
       "6     83.4    kg        dcvz  2022-08-24\n",
       "5    191.0   lbs       maton  2022-08-24\n",
       "9    189.2   lbs    Squanchy  2022-08-24\n",
       "19   188.5   lbs    Squanchy  2022-08-31\n",
       "15   204.7          Ageeklar  2022-08-31\n",
       "16   196.8         fjjstunna  2022-08-31\n",
       "17   188.4             maton  2022-08-31\n",
       "18    83.5    kg        dcvz  2022-08-31\n",
       "20   280.6        Sand.Toast  2022-08-31"
      ]
     },
     "execution_count": 13,
     "metadata": {},
     "output_type": "execute_result"
    }
   ],
   "source": [
    "df1.sort_values(by='weigh_in', ascending=True)"
   ]
  },
  {
   "cell_type": "code",
   "execution_count": 14,
   "id": "89ff3bb3",
   "metadata": {},
   "outputs": [
    {
     "data": {
      "text/html": [
       "<div>\n",
       "<style scoped>\n",
       "    .dataframe tbody tr th:only-of-type {\n",
       "        vertical-align: middle;\n",
       "    }\n",
       "\n",
       "    .dataframe tbody tr th {\n",
       "        vertical-align: top;\n",
       "    }\n",
       "\n",
       "    .dataframe thead th {\n",
       "        text-align: right;\n",
       "    }\n",
       "</style>\n",
       "<table border=\"1\" class=\"dataframe\">\n",
       "  <thead>\n",
       "    <tr style=\"text-align: right;\">\n",
       "      <th></th>\n",
       "      <th>weight</th>\n",
       "      <th>units</th>\n",
       "      <th>name</th>\n",
       "      <th>weigh_in</th>\n",
       "    </tr>\n",
       "  </thead>\n",
       "  <tbody>\n",
       "    <tr>\n",
       "      <th>4</th>\n",
       "      <td>84.0</td>\n",
       "      <td>kg</td>\n",
       "      <td>dcvz</td>\n",
       "      <td>2022-08-17</td>\n",
       "    </tr>\n",
       "    <tr>\n",
       "      <th>6</th>\n",
       "      <td>83.4</td>\n",
       "      <td>kg</td>\n",
       "      <td>dcvz</td>\n",
       "      <td>2022-08-24</td>\n",
       "    </tr>\n",
       "    <tr>\n",
       "      <th>18</th>\n",
       "      <td>83.5</td>\n",
       "      <td>kg</td>\n",
       "      <td>dcvz</td>\n",
       "      <td>2022-08-31</td>\n",
       "    </tr>\n",
       "  </tbody>\n",
       "</table>\n",
       "</div>"
      ],
      "text/plain": [
       "    weight units  name    weigh_in\n",
       "4     84.0    kg  dcvz  2022-08-17\n",
       "6     83.4    kg  dcvz  2022-08-24\n",
       "18    83.5    kg  dcvz  2022-08-31"
      ]
     },
     "execution_count": 14,
     "metadata": {},
     "output_type": "execute_result"
    }
   ],
   "source": [
    "kg_n = df1.loc[df1['units'] == 'kg']\n",
    "kg_n\n"
   ]
  },
  {
   "cell_type": "code",
   "execution_count": 15,
   "id": "4232dee5",
   "metadata": {},
   "outputs": [
    {
     "data": {
      "text/html": [
       "<div>\n",
       "<style scoped>\n",
       "    .dataframe tbody tr th:only-of-type {\n",
       "        vertical-align: middle;\n",
       "    }\n",
       "\n",
       "    .dataframe tbody tr th {\n",
       "        vertical-align: top;\n",
       "    }\n",
       "\n",
       "    .dataframe thead th {\n",
       "        text-align: right;\n",
       "    }\n",
       "</style>\n",
       "<table border=\"1\" class=\"dataframe\">\n",
       "  <thead>\n",
       "    <tr style=\"text-align: right;\">\n",
       "      <th></th>\n",
       "      <th>weight</th>\n",
       "      <th>units</th>\n",
       "      <th>name</th>\n",
       "      <th>weigh_in</th>\n",
       "      <th>weight_n</th>\n",
       "    </tr>\n",
       "  </thead>\n",
       "  <tbody>\n",
       "    <tr>\n",
       "      <th>0</th>\n",
       "      <td>172.4</td>\n",
       "      <td>lbs</td>\n",
       "      <td>ericmtz</td>\n",
       "      <td>2022-08-17</td>\n",
       "      <td>172.4000</td>\n",
       "    </tr>\n",
       "    <tr>\n",
       "      <th>1</th>\n",
       "      <td>196.4</td>\n",
       "      <td>lbs</td>\n",
       "      <td>maton</td>\n",
       "      <td>2022-08-17</td>\n",
       "      <td>196.4000</td>\n",
       "    </tr>\n",
       "    <tr>\n",
       "      <th>2</th>\n",
       "      <td>249.4</td>\n",
       "      <td>lbs</td>\n",
       "      <td>Ludens</td>\n",
       "      <td>2022-08-17</td>\n",
       "      <td>249.4000</td>\n",
       "    </tr>\n",
       "    <tr>\n",
       "      <th>3</th>\n",
       "      <td>209.7</td>\n",
       "      <td>lbs</td>\n",
       "      <td>Ageeklar</td>\n",
       "      <td>2022-08-17</td>\n",
       "      <td>209.7000</td>\n",
       "    </tr>\n",
       "    <tr>\n",
       "      <th>4</th>\n",
       "      <td>84.0</td>\n",
       "      <td>kg</td>\n",
       "      <td>dcvz</td>\n",
       "      <td>2022-08-17</td>\n",
       "      <td>185.2200</td>\n",
       "    </tr>\n",
       "    <tr>\n",
       "      <th>5</th>\n",
       "      <td>191.0</td>\n",
       "      <td>lbs</td>\n",
       "      <td>maton</td>\n",
       "      <td>2022-08-24</td>\n",
       "      <td>191.0000</td>\n",
       "    </tr>\n",
       "    <tr>\n",
       "      <th>6</th>\n",
       "      <td>83.4</td>\n",
       "      <td>kg</td>\n",
       "      <td>dcvz</td>\n",
       "      <td>2022-08-24</td>\n",
       "      <td>183.8970</td>\n",
       "    </tr>\n",
       "    <tr>\n",
       "      <th>7</th>\n",
       "      <td>197.2</td>\n",
       "      <td>lbs</td>\n",
       "      <td>fjjstunna</td>\n",
       "      <td>2022-08-24</td>\n",
       "      <td>197.2000</td>\n",
       "    </tr>\n",
       "    <tr>\n",
       "      <th>8</th>\n",
       "      <td>244.8</td>\n",
       "      <td>lbs</td>\n",
       "      <td>Ludens</td>\n",
       "      <td>2022-08-24</td>\n",
       "      <td>244.8000</td>\n",
       "    </tr>\n",
       "    <tr>\n",
       "      <th>9</th>\n",
       "      <td>189.2</td>\n",
       "      <td>lbs</td>\n",
       "      <td>Squanchy</td>\n",
       "      <td>2022-08-24</td>\n",
       "      <td>189.2000</td>\n",
       "    </tr>\n",
       "    <tr>\n",
       "      <th>10</th>\n",
       "      <td>181.4</td>\n",
       "      <td>lbs</td>\n",
       "      <td>ericmtz</td>\n",
       "      <td>2022-08-24</td>\n",
       "      <td>181.4000</td>\n",
       "    </tr>\n",
       "    <tr>\n",
       "      <th>11</th>\n",
       "      <td>206.7</td>\n",
       "      <td>lbs</td>\n",
       "      <td>Ageeklar</td>\n",
       "      <td>2022-08-24</td>\n",
       "      <td>206.7000</td>\n",
       "    </tr>\n",
       "    <tr>\n",
       "      <th>12</th>\n",
       "      <td>191.8</td>\n",
       "      <td>lbs</td>\n",
       "      <td>Squanchy</td>\n",
       "      <td>2022-08-17</td>\n",
       "      <td>191.8000</td>\n",
       "    </tr>\n",
       "    <tr>\n",
       "      <th>13</th>\n",
       "      <td>284.4</td>\n",
       "      <td>lbs</td>\n",
       "      <td>Sand.Toast</td>\n",
       "      <td>2022-08-17</td>\n",
       "      <td>284.4000</td>\n",
       "    </tr>\n",
       "    <tr>\n",
       "      <th>14</th>\n",
       "      <td>202.8</td>\n",
       "      <td>lbs</td>\n",
       "      <td>fjjstunna</td>\n",
       "      <td>2022-08-17</td>\n",
       "      <td>202.8000</td>\n",
       "    </tr>\n",
       "    <tr>\n",
       "      <th>15</th>\n",
       "      <td>204.7</td>\n",
       "      <td></td>\n",
       "      <td>Ageeklar</td>\n",
       "      <td>2022-08-31</td>\n",
       "      <td>204.7000</td>\n",
       "    </tr>\n",
       "    <tr>\n",
       "      <th>16</th>\n",
       "      <td>196.8</td>\n",
       "      <td></td>\n",
       "      <td>fjjstunna</td>\n",
       "      <td>2022-08-31</td>\n",
       "      <td>196.8000</td>\n",
       "    </tr>\n",
       "    <tr>\n",
       "      <th>17</th>\n",
       "      <td>188.4</td>\n",
       "      <td></td>\n",
       "      <td>maton</td>\n",
       "      <td>2022-08-31</td>\n",
       "      <td>188.4000</td>\n",
       "    </tr>\n",
       "    <tr>\n",
       "      <th>18</th>\n",
       "      <td>83.5</td>\n",
       "      <td>kg</td>\n",
       "      <td>dcvz</td>\n",
       "      <td>2022-08-31</td>\n",
       "      <td>184.1175</td>\n",
       "    </tr>\n",
       "    <tr>\n",
       "      <th>19</th>\n",
       "      <td>188.5</td>\n",
       "      <td>lbs</td>\n",
       "      <td>Squanchy</td>\n",
       "      <td>2022-08-31</td>\n",
       "      <td>188.5000</td>\n",
       "    </tr>\n",
       "    <tr>\n",
       "      <th>20</th>\n",
       "      <td>280.6</td>\n",
       "      <td></td>\n",
       "      <td>Sand.Toast</td>\n",
       "      <td>2022-08-31</td>\n",
       "      <td>280.6000</td>\n",
       "    </tr>\n",
       "  </tbody>\n",
       "</table>\n",
       "</div>"
      ],
      "text/plain": [
       "    weight units        name    weigh_in  weight_n\n",
       "0    172.4   lbs     ericmtz  2022-08-17  172.4000\n",
       "1    196.4   lbs       maton  2022-08-17  196.4000\n",
       "2    249.4   lbs      Ludens  2022-08-17  249.4000\n",
       "3    209.7   lbs    Ageeklar  2022-08-17  209.7000\n",
       "4     84.0    kg        dcvz  2022-08-17  185.2200\n",
       "5    191.0   lbs       maton  2022-08-24  191.0000\n",
       "6     83.4    kg        dcvz  2022-08-24  183.8970\n",
       "7    197.2   lbs   fjjstunna  2022-08-24  197.2000\n",
       "8    244.8   lbs      Ludens  2022-08-24  244.8000\n",
       "9    189.2   lbs    Squanchy  2022-08-24  189.2000\n",
       "10   181.4   lbs     ericmtz  2022-08-24  181.4000\n",
       "11   206.7   lbs    Ageeklar  2022-08-24  206.7000\n",
       "12   191.8   lbs    Squanchy  2022-08-17  191.8000\n",
       "13   284.4   lbs  Sand.Toast  2022-08-17  284.4000\n",
       "14   202.8   lbs   fjjstunna  2022-08-17  202.8000\n",
       "15   204.7          Ageeklar  2022-08-31  204.7000\n",
       "16   196.8         fjjstunna  2022-08-31  196.8000\n",
       "17   188.4             maton  2022-08-31  188.4000\n",
       "18    83.5    kg        dcvz  2022-08-31  184.1175\n",
       "19   188.5   lbs    Squanchy  2022-08-31  188.5000\n",
       "20   280.6        Sand.Toast  2022-08-31  280.6000"
      ]
     },
     "execution_count": 15,
     "metadata": {},
     "output_type": "execute_result"
    }
   ],
   "source": [
    "\n",
    "def normalize_weight(row):\n",
    "    if row['units'] == 'kg':\n",
    "        return row['weight'] * 2.205\n",
    "    else:\n",
    "        return row['weight']\n",
    "df1['weight_n'] = df1.apply(normalize_weight, axis=1)\n",
    "df1\n",
    "#df1.loc[df1.units == 'kg'].apply(lambda x: x.weight_n = x.weight * 2.205, axis=1)\n",
    "#df1.loc[df1.units == 'kg']\n",
    "#if df1.loc[df1['units'] == 'kg']:\n",
    "#    df1['weight_n'] = df1['weight'] * 2.205\n",
    "#else:\n",
    "#    df1['weight_n'] = df1['weight']\n"
   ]
  },
  {
   "cell_type": "code",
   "execution_count": null,
   "id": "f47634dd",
   "metadata": {},
   "outputs": [],
   "source": []
  },
  {
   "cell_type": "code",
   "execution_count": null,
   "id": "b30fda29",
   "metadata": {},
   "outputs": [],
   "source": []
  },
  {
   "cell_type": "code",
   "execution_count": 16,
   "id": "fe8e6602",
   "metadata": {},
   "outputs": [
    {
     "data": {
      "text/plain": [
       "<QuerySet [<ContestantCheckIn: ContestantCheckIn(14, 189.2lbs, contestant_id: 2)>, <ContestantCheckIn: ContestantCheckIn(17, 191.8lbs, contestant_id: 2)>, <ContestantCheckIn: ContestantCheckIn(24, 188.5lbs, contestant_id: 2)>]>"
      ]
     },
     "execution_count": 16,
     "metadata": {},
     "output_type": "execute_result"
    }
   ],
   "source": [
    "contestant = Contestant.objects.get(id=2)\n",
    "contestant.check_ins.all()"
   ]
  },
  {
   "cell_type": "code",
   "execution_count": null,
   "id": "f6bdb05d",
   "metadata": {},
   "outputs": [],
   "source": []
  },
  {
   "cell_type": "code",
   "execution_count": 17,
   "id": "3cde5b87",
   "metadata": {},
   "outputs": [],
   "source": [
    "def weight_stats(dataframe, contestant):\n",
    "    \"\"\"\n",
    "    Function to calculate contestant standing and leaderboard\n",
    "    \n",
    "    contestant: name\n",
    "    \"\"\"\n",
    "    \n",
    "    #get individual contestant stats\n",
    "    player = dataframe.loc[dataframe['name'].eq(contestant)]\n",
    "    player = player.sort_values(by='weigh_in', ascending=True)\n",
    "    player['weekly_drop'] = (player.groupby(['name'])['weight_n']\n",
    "                          .diff()\n",
    "                          .fillna(player['weight_n'])\n",
    "                          )\n",
    "    \n",
    "    #aggregated weight loss/gain\n",
    "    weight_agg = round(player['weekly_drop'].sum() - player['weekly_drop'].max(),2)                       \n",
    "    \n",
    "    #player.sort_values(by='weigh_in', ascending=False)\n",
    "    \n",
    "    #graph individual contestants stats\n",
    "    plt.figure(figsize=(15, 7))\n",
    "    sns.set_style(\"whitegrid\")\n",
    "    sns.pointplot(x='weigh_in', y='weight_n', data=player, estimator=np.mean, markers='*', ci=None, hue='name')\n",
    "    plt.xlabel('Weight-in Date')\n",
    "    plt.xticks(rotation=45)\n",
    "    plt.ylabel('Weight (lbs)')\n",
    "    plt.show()\n",
    "    \n",
    "    print(player)\n",
    "    print('-'*50)\n",
    "    print('Total amount gained/lost:', weight_agg)\n",
    "    print('-'*50)"
   ]
  },
  {
   "cell_type": "code",
   "execution_count": 18,
   "id": "c41d24d3",
   "metadata": {},
   "outputs": [
    {
     "data": {
      "image/png": "[encoded data removed]",
      "text/plain": [
       "<Figure size 1500x700 with 1 Axes>"
      ]
     },
     "metadata": {},
     "output_type": "display_data"
    },
    {
     "name": "stdout",
     "output_type": "stream",
     "text": [
      "    weight units      name    weigh_in  weight_n  weekly_drop\n",
      "12   191.8   lbs  Squanchy  2022-08-17     191.8        191.8\n",
      "9    189.2   lbs  Squanchy  2022-08-24     189.2         -2.6\n",
      "19   188.5   lbs  Squanchy  2022-08-31     188.5         -0.7\n",
      "--------------------------------------------------\n",
      "Total amount gained/lost: -3.3\n",
      "--------------------------------------------------\n"
     ]
    }
   ],
   "source": [
    "weight_stats(df1, 'Squanchy')"
   ]
  },
  {
   "cell_type": "code",
   "execution_count": 19,
   "id": "773c3268",
   "metadata": {},
   "outputs": [
    {
     "data": {
      "image/png": "[encoded data removed]",
      "text/plain": [
       "<Figure size 1500x700 with 1 Axes>"
      ]
     },
     "metadata": {},
     "output_type": "display_data"
    },
    {
     "name": "stdout",
     "output_type": "stream",
     "text": [
      "    weight units     name    weigh_in  weight_n  weekly_drop\n",
      "0    172.4   lbs  ericmtz  2022-08-17     172.4        172.4\n",
      "10   181.4   lbs  ericmtz  2022-08-24     181.4          9.0\n",
      "--------------------------------------------------\n",
      "Total amount gained/lost: 9.0\n",
      "--------------------------------------------------\n"
     ]
    }
   ],
   "source": [
    "weight_stats(df1,'ericmtz')"
   ]
  },
  {
   "cell_type": "code",
   "execution_count": 20,
   "id": "0fafe3c5",
   "metadata": {},
   "outputs": [
    {
     "data": {
      "image/png": "[encoded data removed]",
      "text/plain": [
       "<Figure size 1500x700 with 1 Axes>"
      ]
     },
     "metadata": {},
     "output_type": "display_data"
    },
    {
     "name": "stdout",
     "output_type": "stream",
     "text": [
      "    weight units        name    weigh_in  weight_n  weekly_drop\n",
      "13   284.4   lbs  Sand.Toast  2022-08-17     284.4        284.4\n",
      "20   280.6        Sand.Toast  2022-08-31     280.6         -3.8\n",
      "--------------------------------------------------\n",
      "Total amount gained/lost: -3.8\n",
      "--------------------------------------------------\n"
     ]
    }
   ],
   "source": [
    "weight_stats(df1,'Sand.Toast')"
   ]
  },
  {
   "cell_type": "code",
   "execution_count": 21,
   "id": "80702d0f",
   "metadata": {},
   "outputs": [
    {
     "data": {
      "image/png": "[encoded data removed]",
      "text/plain": [
       "<Figure size 1500x700 with 1 Axes>"
      ]
     },
     "metadata": {},
     "output_type": "display_data"
    },
    {
     "name": "stdout",
     "output_type": "stream",
     "text": [
      "    weight units  name    weigh_in  weight_n  weekly_drop\n",
      "4     84.0    kg  dcvz  2022-08-17  185.2200     185.2200\n",
      "6     83.4    kg  dcvz  2022-08-24  183.8970      -1.3230\n",
      "18    83.5    kg  dcvz  2022-08-31  184.1175       0.2205\n",
      "--------------------------------------------------\n",
      "Total amount gained/lost: -1.1\n",
      "--------------------------------------------------\n"
     ]
    }
   ],
   "source": [
    "weight_stats(df1,'dcvz')"
   ]
  },
  {
   "cell_type": "code",
   "execution_count": null,
   "id": "32f75d3f",
   "metadata": {},
   "outputs": [],
   "source": []
  },
  {
   "cell_type": "code",
   "execution_count": null,
   "id": "dd03f902",
   "metadata": {},
   "outputs": [],
   "source": []
  },
  {
   "cell_type": "code",
   "execution_count": null,
   "id": "b8f2c05b",
   "metadata": {},
   "outputs": [],
   "source": []
  },
  {
   "cell_type": "code",
   "execution_count": null,
   "id": "7d1e5293",
   "metadata": {},
   "outputs": [],
   "source": []
  },
  {
   "cell_type": "code",
   "execution_count": 22,
   "id": "cb620d9c",
   "metadata": {
    "scrolled": true
   },
   "outputs": [
    {
     "data": {
      "text/html": [
       "<div>\n",
       "<style scoped>\n",
       "    .dataframe tbody tr th:only-of-type {\n",
       "        vertical-align: middle;\n",
       "    }\n",
       "\n",
       "    .dataframe tbody tr th {\n",
       "        vertical-align: top;\n",
       "    }\n",
       "\n",
       "    .dataframe thead th {\n",
       "        text-align: right;\n",
       "    }\n",
       "</style>\n",
       "<table border=\"1\" class=\"dataframe\">\n",
       "  <thead>\n",
       "    <tr style=\"text-align: right;\">\n",
       "      <th></th>\n",
       "      <th>weight</th>\n",
       "      <th>units</th>\n",
       "      <th>name</th>\n",
       "      <th>weigh_in</th>\n",
       "      <th>weight_n</th>\n",
       "      <th>weekly_drop</th>\n",
       "    </tr>\n",
       "  </thead>\n",
       "  <tbody>\n",
       "    <tr>\n",
       "      <th>0</th>\n",
       "      <td>172.4</td>\n",
       "      <td>lbs</td>\n",
       "      <td>ericmtz</td>\n",
       "      <td>2022-08-17</td>\n",
       "      <td>172.4000</td>\n",
       "      <td>172.4</td>\n",
       "    </tr>\n",
       "    <tr>\n",
       "      <th>1</th>\n",
       "      <td>196.4</td>\n",
       "      <td>lbs</td>\n",
       "      <td>maton</td>\n",
       "      <td>2022-08-17</td>\n",
       "      <td>196.4000</td>\n",
       "      <td>24.0</td>\n",
       "    </tr>\n",
       "    <tr>\n",
       "      <th>2</th>\n",
       "      <td>249.4</td>\n",
       "      <td>lbs</td>\n",
       "      <td>Ludens</td>\n",
       "      <td>2022-08-17</td>\n",
       "      <td>249.4000</td>\n",
       "      <td>53.0</td>\n",
       "    </tr>\n",
       "    <tr>\n",
       "      <th>3</th>\n",
       "      <td>209.7</td>\n",
       "      <td>lbs</td>\n",
       "      <td>Ageeklar</td>\n",
       "      <td>2022-08-17</td>\n",
       "      <td>209.7000</td>\n",
       "      <td>-39.7</td>\n",
       "    </tr>\n",
       "    <tr>\n",
       "      <th>4</th>\n",
       "      <td>84.0</td>\n",
       "      <td>kg</td>\n",
       "      <td>dcvz</td>\n",
       "      <td>2022-08-17</td>\n",
       "      <td>185.2200</td>\n",
       "      <td>-125.7</td>\n",
       "    </tr>\n",
       "    <tr>\n",
       "      <th>5</th>\n",
       "      <td>191.0</td>\n",
       "      <td>lbs</td>\n",
       "      <td>maton</td>\n",
       "      <td>2022-08-24</td>\n",
       "      <td>191.0000</td>\n",
       "      <td>191.0</td>\n",
       "    </tr>\n",
       "    <tr>\n",
       "      <th>6</th>\n",
       "      <td>83.4</td>\n",
       "      <td>kg</td>\n",
       "      <td>dcvz</td>\n",
       "      <td>2022-08-24</td>\n",
       "      <td>183.8970</td>\n",
       "      <td>-107.6</td>\n",
       "    </tr>\n",
       "    <tr>\n",
       "      <th>7</th>\n",
       "      <td>197.2</td>\n",
       "      <td>lbs</td>\n",
       "      <td>fjjstunna</td>\n",
       "      <td>2022-08-24</td>\n",
       "      <td>197.2000</td>\n",
       "      <td>113.8</td>\n",
       "    </tr>\n",
       "    <tr>\n",
       "      <th>8</th>\n",
       "      <td>244.8</td>\n",
       "      <td>lbs</td>\n",
       "      <td>Ludens</td>\n",
       "      <td>2022-08-24</td>\n",
       "      <td>244.8000</td>\n",
       "      <td>47.6</td>\n",
       "    </tr>\n",
       "    <tr>\n",
       "      <th>9</th>\n",
       "      <td>189.2</td>\n",
       "      <td>lbs</td>\n",
       "      <td>Squanchy</td>\n",
       "      <td>2022-08-24</td>\n",
       "      <td>189.2000</td>\n",
       "      <td>-55.6</td>\n",
       "    </tr>\n",
       "    <tr>\n",
       "      <th>10</th>\n",
       "      <td>181.4</td>\n",
       "      <td>lbs</td>\n",
       "      <td>ericmtz</td>\n",
       "      <td>2022-08-24</td>\n",
       "      <td>181.4000</td>\n",
       "      <td>-7.8</td>\n",
       "    </tr>\n",
       "    <tr>\n",
       "      <th>11</th>\n",
       "      <td>206.7</td>\n",
       "      <td>lbs</td>\n",
       "      <td>Ageeklar</td>\n",
       "      <td>2022-08-24</td>\n",
       "      <td>206.7000</td>\n",
       "      <td>25.3</td>\n",
       "    </tr>\n",
       "    <tr>\n",
       "      <th>12</th>\n",
       "      <td>191.8</td>\n",
       "      <td>lbs</td>\n",
       "      <td>Squanchy</td>\n",
       "      <td>2022-08-17</td>\n",
       "      <td>191.8000</td>\n",
       "      <td>107.8</td>\n",
       "    </tr>\n",
       "    <tr>\n",
       "      <th>13</th>\n",
       "      <td>284.4</td>\n",
       "      <td>lbs</td>\n",
       "      <td>Sand.Toast</td>\n",
       "      <td>2022-08-17</td>\n",
       "      <td>284.4000</td>\n",
       "      <td>92.6</td>\n",
       "    </tr>\n",
       "    <tr>\n",
       "      <th>14</th>\n",
       "      <td>202.8</td>\n",
       "      <td>lbs</td>\n",
       "      <td>fjjstunna</td>\n",
       "      <td>2022-08-17</td>\n",
       "      <td>202.8000</td>\n",
       "      <td>-81.6</td>\n",
       "    </tr>\n",
       "    <tr>\n",
       "      <th>15</th>\n",
       "      <td>204.7</td>\n",
       "      <td></td>\n",
       "      <td>Ageeklar</td>\n",
       "      <td>2022-08-31</td>\n",
       "      <td>204.7000</td>\n",
       "      <td>204.7</td>\n",
       "    </tr>\n",
       "    <tr>\n",
       "      <th>16</th>\n",
       "      <td>196.8</td>\n",
       "      <td></td>\n",
       "      <td>fjjstunna</td>\n",
       "      <td>2022-08-31</td>\n",
       "      <td>196.8000</td>\n",
       "      <td>-7.9</td>\n",
       "    </tr>\n",
       "    <tr>\n",
       "      <th>17</th>\n",
       "      <td>188.4</td>\n",
       "      <td></td>\n",
       "      <td>maton</td>\n",
       "      <td>2022-08-31</td>\n",
       "      <td>188.4000</td>\n",
       "      <td>-8.4</td>\n",
       "    </tr>\n",
       "    <tr>\n",
       "      <th>18</th>\n",
       "      <td>83.5</td>\n",
       "      <td>kg</td>\n",
       "      <td>dcvz</td>\n",
       "      <td>2022-08-31</td>\n",
       "      <td>184.1175</td>\n",
       "      <td>-104.9</td>\n",
       "    </tr>\n",
       "    <tr>\n",
       "      <th>19</th>\n",
       "      <td>188.5</td>\n",
       "      <td>lbs</td>\n",
       "      <td>Squanchy</td>\n",
       "      <td>2022-08-31</td>\n",
       "      <td>188.5000</td>\n",
       "      <td>105.0</td>\n",
       "    </tr>\n",
       "    <tr>\n",
       "      <th>20</th>\n",
       "      <td>280.6</td>\n",
       "      <td></td>\n",
       "      <td>Sand.Toast</td>\n",
       "      <td>2022-08-31</td>\n",
       "      <td>280.6000</td>\n",
       "      <td>92.1</td>\n",
       "    </tr>\n",
       "  </tbody>\n",
       "</table>\n",
       "</div>"
      ],
      "text/plain": [
       "    weight units        name    weigh_in  weight_n  weekly_drop\n",
       "0    172.4   lbs     ericmtz  2022-08-17  172.4000        172.4\n",
       "1    196.4   lbs       maton  2022-08-17  196.4000         24.0\n",
       "2    249.4   lbs      Ludens  2022-08-17  249.4000         53.0\n",
       "3    209.7   lbs    Ageeklar  2022-08-17  209.7000        -39.7\n",
       "4     84.0    kg        dcvz  2022-08-17  185.2200       -125.7\n",
       "5    191.0   lbs       maton  2022-08-24  191.0000        191.0\n",
       "6     83.4    kg        dcvz  2022-08-24  183.8970       -107.6\n",
       "7    197.2   lbs   fjjstunna  2022-08-24  197.2000        113.8\n",
       "8    244.8   lbs      Ludens  2022-08-24  244.8000         47.6\n",
       "9    189.2   lbs    Squanchy  2022-08-24  189.2000        -55.6\n",
       "10   181.4   lbs     ericmtz  2022-08-24  181.4000         -7.8\n",
       "11   206.7   lbs    Ageeklar  2022-08-24  206.7000         25.3\n",
       "12   191.8   lbs    Squanchy  2022-08-17  191.8000        107.8\n",
       "13   284.4   lbs  Sand.Toast  2022-08-17  284.4000         92.6\n",
       "14   202.8   lbs   fjjstunna  2022-08-17  202.8000        -81.6\n",
       "15   204.7          Ageeklar  2022-08-31  204.7000        204.7\n",
       "16   196.8         fjjstunna  2022-08-31  196.8000         -7.9\n",
       "17   188.4             maton  2022-08-31  188.4000         -8.4\n",
       "18    83.5    kg        dcvz  2022-08-31  184.1175       -104.9\n",
       "19   188.5   lbs    Squanchy  2022-08-31  188.5000        105.0\n",
       "20   280.6        Sand.Toast  2022-08-31  280.6000         92.1"
      ]
     },
     "execution_count": 22,
     "metadata": {},
     "output_type": "execute_result"
    }
   ],
   "source": [
    "df1['weekly_drop'] = (df1.groupby(['weigh_in'])['weight']\n",
    "                          .diff()\n",
    "                          .fillna(df1['weight']))\n",
    "df1"
   ]
  },
  {
   "cell_type": "code",
   "execution_count": 23,
   "id": "231314e9",
   "metadata": {},
   "outputs": [
    {
     "data": {
      "text/html": [
       "<div>\n",
       "<style scoped>\n",
       "    .dataframe tbody tr th:only-of-type {\n",
       "        vertical-align: middle;\n",
       "    }\n",
       "\n",
       "    .dataframe tbody tr th {\n",
       "        vertical-align: top;\n",
       "    }\n",
       "\n",
       "    .dataframe thead th {\n",
       "        text-align: right;\n",
       "    }\n",
       "</style>\n",
       "<table border=\"1\" class=\"dataframe\">\n",
       "  <thead>\n",
       "    <tr style=\"text-align: right;\">\n",
       "      <th></th>\n",
       "      <th>weight</th>\n",
       "      <th>units</th>\n",
       "      <th>name</th>\n",
       "      <th>weigh_in</th>\n",
       "      <th>weight_n</th>\n",
       "      <th>weekly_drop</th>\n",
       "    </tr>\n",
       "  </thead>\n",
       "  <tbody>\n",
       "    <tr>\n",
       "      <th>9</th>\n",
       "      <td>189.2</td>\n",
       "      <td>lbs</td>\n",
       "      <td>Squanchy</td>\n",
       "      <td>2022-08-24</td>\n",
       "      <td>189.2</td>\n",
       "      <td>-55.6</td>\n",
       "    </tr>\n",
       "    <tr>\n",
       "      <th>12</th>\n",
       "      <td>191.8</td>\n",
       "      <td>lbs</td>\n",
       "      <td>Squanchy</td>\n",
       "      <td>2022-08-17</td>\n",
       "      <td>191.8</td>\n",
       "      <td>107.8</td>\n",
       "    </tr>\n",
       "    <tr>\n",
       "      <th>19</th>\n",
       "      <td>188.5</td>\n",
       "      <td>lbs</td>\n",
       "      <td>Squanchy</td>\n",
       "      <td>2022-08-31</td>\n",
       "      <td>188.5</td>\n",
       "      <td>105.0</td>\n",
       "    </tr>\n",
       "  </tbody>\n",
       "</table>\n",
       "</div>"
      ],
      "text/plain": [
       "    weight units      name    weigh_in  weight_n  weekly_drop\n",
       "9    189.2   lbs  Squanchy  2022-08-24     189.2        -55.6\n",
       "12   191.8   lbs  Squanchy  2022-08-17     191.8        107.8\n",
       "19   188.5   lbs  Squanchy  2022-08-31     188.5        105.0"
      ]
     },
     "execution_count": 23,
     "metadata": {},
     "output_type": "execute_result"
    }
   ],
   "source": [
    "df_1 = df1.loc[df1['name'].eq('Squanchy')]\n",
    "df_1"
   ]
  },
  {
   "cell_type": "code",
   "execution_count": 24,
   "id": "2bd0c972",
   "metadata": {},
   "outputs": [
    {
     "name": "stdout",
     "output_type": "stream",
     "text": [
      "weight         191.77\n",
      "weight_n       206.16\n",
      "weekly_drop     32.86\n",
      "dtype: float64\n"
     ]
    }
   ],
   "source": [
    "print(round(df1.mean(), 2))"
   ]
  },
  {
   "cell_type": "code",
   "execution_count": 25,
   "id": "55a82781",
   "metadata": {
    "scrolled": false
   },
   "outputs": [
    {
     "data": {
      "image/png": "[encoded data removed]",
      "text/plain": [
       "<Figure size 1500x700 with 1 Axes>"
      ]
     },
     "metadata": {},
     "output_type": "display_data"
    }
   ],
   "source": [
    "plt.figure(figsize=(15, 7))\n",
    "sns.set_style(\"whitegrid\")\n",
    "sns.pointplot(x='weigh_in', y='weight', data=df_1, estimator=np.mean, markers='x', ci=None, hue='name')\n",
    "plt.xticks(rotation=45)\n",
    "plt.show()"
   ]
  },
  {
   "cell_type": "code",
   "execution_count": 27,
   "id": "a544b229",
   "metadata": {},
   "outputs": [
    {
     "data": {
      "image/png": "[encoded data removed]",
      "text/plain": [
       "<Figure size 1500x700 with 1 Axes>"
      ]
     },
     "metadata": {},
     "output_type": "display_data"
    }
   ],
   "source": [
    "plt.figure(figsize=(15, 7))\n",
    "sns.set_style(\"whitegrid\")\n",
    "sns.pointplot(x='weigh_in', y='weight', data=df1, estimator=np.mean, markers='*', ci=None, hue='name')\n",
    "plt.xticks(rotation=90)\n",
    "plt.show()"
   ]
  }
 ],
 "metadata": {
  "kernelspec": {
   "display_name": "Django Shell-Plus",
   "language": "python",
   "name": "django_extensions"
  },
  "language_info": {
   "codemirror_mode": {
    "name": "ipython",
    "version": 3
   },
   "file_extension": ".py",
   "mimetype": "text/x-python",
   "name": "python",
   "nbconvert_exporter": "python",
   "pygments_lexer": "ipython3",
   "version": "3.10.6"
  }
 },
 "nbformat": 4,
 "nbformat_minor": 5
}
